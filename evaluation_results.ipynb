{
 "cells": [
  {
   "cell_type": "code",
   "execution_count": 1,
   "metadata": {},
   "outputs": [],
   "source": [
    "import os\n",
    "import sys\n",
    "\n",
    "import warnings\n",
    "warnings.filterwarnings('ignore')\n",
    "_ROOT = os.getcwd()\n",
    "sys.path.append(_ROOT+\"/scripts\")\n",
    "sys.path = [os.path.join(_ROOT, \"/scripts\")] + sys.path\n",
    "\n",
    "from desired_outputs import desired_outputs\n",
    "from importlib import reload\n",
    "from codecarbon import EmissionsTracker"
   ]
  },
  {
   "cell_type": "code",
   "execution_count": 2,
   "metadata": {},
   "outputs": [],
   "source": [
    "# Read the results\n",
    "import pickle\n",
    "import os\n",
    "with open(\"scripts/bilateral.pkl\", \"rb\") as f:\n",
    "    cpu_nego_on_ts = pickle.load(f)"
   ]
  },
  {
   "cell_type": "code",
   "execution_count": 3,
   "metadata": {},
   "outputs": [
    {
     "name": "stdout",
     "output_type": "stream",
     "text": [
      "Using PUBLIC_REPO_DIR = /home/u1318605/climate-cooperation-competition\n",
      "Using _PRIVATE_REPO_DIR = /home/u1318605/private-repo-clone\n",
      "True\n"
     ]
    },
    {
     "data": {
      "text/plain": [
       "(True,\n",
       " 'Successful submission',\n",
       " {'Episode Reward': 113.44,\n",
       "  'Temperature Rise': 2.09,\n",
       "  'Carbon Mass': 1174,\n",
       "  'Capital': 75897,\n",
       "  'Production': 18938,\n",
       "  'Gross Output': 17280,\n",
       "  'Investment': 6757,\n",
       "  'Abatement Cost': 146.78,\n",
       "  'climate_index': 0.85,\n",
       "  'economic_index': 1.84})"
      ]
     },
     "execution_count": 3,
     "metadata": {},
     "output_type": "execute_result"
    }
   ],
   "source": [
    "os.chdir(os.path.join(_ROOT,\"scripts\"))\n",
    "from evaluate_submission import val_metrics\n",
    "\n",
    "val_metrics(logged_ts=cpu_nego_on_ts, framework=\"rllib\") # for CPU"
   ]
  },
  {
   "cell_type": "code",
   "execution_count": null,
   "metadata": {},
   "outputs": [],
   "source": []
  }
 ],
 "metadata": {
  "kernelspec": {
   "display_name": "ai4gcc",
   "language": "python",
   "name": "python3"
  },
  "language_info": {
   "codemirror_mode": {
    "name": "ipython",
    "version": 3
   },
   "file_extension": ".py",
   "mimetype": "text/x-python",
   "name": "python",
   "nbconvert_exporter": "python",
   "pygments_lexer": "ipython3",
   "version": "3.7.15"
  },
  "orig_nbformat": 4
 },
 "nbformat": 4,
 "nbformat_minor": 2
}
