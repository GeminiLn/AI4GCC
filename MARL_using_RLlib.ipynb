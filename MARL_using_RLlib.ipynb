{
 "cells": [
  {
   "cell_type": "markdown",
   "id": "56cb26e3",
   "metadata": {},
   "source": [
    "Copyright (c) 2022, salesforce.com, inc and MILA.  \n",
    "All rights reserved.  \n",
    "SPDX-License-Identifier: BSD-3-Clause  \n",
    "For full license text, see the LICENSE file in the repo root  \n",
    "or https://opensource.org/licenses/BSD-3-Clause  "
   ]
  },
  {
   "cell_type": "code",
   "execution_count": null,
   "id": "7635e695",
   "metadata": {},
   "outputs": [],
   "source": [
    "import logging\n",
    "import numpy as np\n",
    "import os\n",
    "import shutil\n",
    "import subprocess\n",
    "import sys\n",
    "import time\n",
    "import yaml\n",
    "\n",
    "from scripts.train_with_rllib import create_trainer, fetch_episode_states, load_model_checkpoints"
   ]
  },
  {
   "cell_type": "code",
   "execution_count": null,
   "id": "a1e40c9c",
   "metadata": {},
   "outputs": [],
   "source": [
    "# Set logger level e.g., DEBUG, INFO, WARNING, ERROR.\n",
    "logging.getLogger().setLevel(logging.ERROR)"
   ]
  },
  {
   "cell_type": "code",
   "execution_count": null,
   "id": "4f636cf3",
   "metadata": {},
   "outputs": [],
   "source": [
    "# Needed to perform this install when the system threw the lib.so file missing error\n",
    "# ! apt-get install libglib2.0-0 --yes"
   ]
  },
  {
   "cell_type": "code",
   "execution_count": null,
   "id": "6b952acb",
   "metadata": {},
   "outputs": [],
   "source": [
    "print(\"Training with RLlib...\")\n",
    "# Read the run configurations specific to the environment.\n",
    "# Note: The run config yaml(s) can be edited at warp_drive/training/run_configs\n",
    "# -----------------------------------------------------------------------------\n",
    "config_path = os.path.join(\"scripts\", \"rice_rllib.yaml\")\n",
    "if not os.path.exists(config_path):\n",
    "    raise ValueError(\n",
    "        \"The run configuration is missing. Please make sure the correct path\"\n",
    "        \"is specified.\"\n",
    "    )\n",
    "\n",
    "with open(config_path, \"r\", encoding=\"utf8\") as fp:\n",
    "    run_config = yaml.safe_load(fp)\n",
    "\n",
    "# Create trainer\n",
    "# --------------\n",
    "trainer, save_dir = create_trainer(run_config)\n",
    "\n",
    "# Copy the source files into the results directory\n",
    "# ------------------------------------------------\n",
    "os.makedirs(save_dir)\n",
    "for file in [\n",
    "    \"rice.py\",\n",
    "]:\n",
    "    shutil.copyfile(\n",
    "        os.path.join(file),\n",
    "        os.path.join(save_dir, file),\n",
    "    )\n",
    "# Add an identifier file\n",
    "with open(os.path.join(save_dir, \".rllib\"), \"x\", encoding=\"utf-8\") as fp:\n",
    "    pass\n",
    "fp.close()"
   ]
  },
  {
   "cell_type": "markdown",
   "id": "bf5ea093",
   "metadata": {},
   "source": [
    "### Invoke training"
   ]
  },
  {
   "cell_type": "code",
   "execution_count": null,
   "id": "10564c91",
   "metadata": {},
   "outputs": [],
   "source": [
    "NUM_ITERS = 5\n",
    "for iter in range(NUM_ITERS):\n",
    "    result = trainer.train()\n",
    "print(result)"
   ]
  },
  {
   "cell_type": "markdown",
   "id": "d31b0cf0",
   "metadata": {},
   "source": [
    "### Fetch episode states"
   ]
  },
  {
   "cell_type": "code",
   "execution_count": null,
   "id": "23cb91ee",
   "metadata": {},
   "outputs": [],
   "source": [
    "outputs = fetch_episode_states(trainer, [\"T_i\", \"carbon_mass_i\", \"capital_i\"])"
   ]
  }
 ],
 "metadata": {
  "kernelspec": {
   "display_name": "Python 3 (ipykernel)",
   "language": "python",
   "name": "python3"
  },
  "language_info": {
   "codemirror_mode": {
    "name": "ipython",
    "version": 3
   },
   "file_extension": ".py",
   "mimetype": "text/x-python",
   "name": "python",
   "nbconvert_exporter": "python",
   "pygments_lexer": "ipython3",
   "version": "3.8.10"
  }
 },
 "nbformat": 4,
 "nbformat_minor": 5
}
